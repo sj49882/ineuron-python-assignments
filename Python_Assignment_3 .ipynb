{
 "cells": [
  {
   "cell_type": "code",
   "execution_count": 8,
   "metadata": {},
   "outputs": [
    {
     "name": "stdout",
     "output_type": "stream",
     "text": [
      "My Reduce Output is: 183\n"
     ]
    }
   ],
   "source": [
    "#1.1 Write a Python Program to implement your own myreduce() function which works exactlylike Python's built-in function reduce()\n",
    "\n",
    "def myreducefunction(fun, value):\n",
    "    result = value[0]\n",
    "    for i in value[1:]:\n",
    "        result = fun(result, i)\n",
    "    return result\n",
    "\n",
    "def fun(a, b):\n",
    "    return a + b\n",
    "\n",
    "l = [1, 3, 5, 8, 11, 12, 41, 102]\n",
    "print(f\"My Reduce Output is: {myreduce(fun, l)}\")"
   ]
  },
  {
   "cell_type": "code",
   "execution_count": 9,
   "metadata": {},
   "outputs": [
    {
     "name": "stdout",
     "output_type": "stream",
     "text": [
      "My Filter Output is: [6, 84, 72]\n"
     ]
    }
   ],
   "source": [
    "#1.2 Write a Python program to implement your own myfilter() function which works exactly like Python's built-in function filter()\n",
    "\n",
    "def myfilterfunction(fun, values):\n",
    "    result = list()\n",
    "    for i in values:\n",
    "        if fun(i):\n",
    "            result.append(i)\n",
    "    return result\n",
    "\n",
    "def fun(y):\n",
    "    if y % 2 == 0:\n",
    "        return True\n",
    "    else:\n",
    "        return False\n",
    "\n",
    "lst = [6, 11, 13, 84, 39, 72]\n",
    "print(f\"My Filter Output is: {myfilter(fun, lst)}\")"
   ]
  },
  {
   "cell_type": "code",
   "execution_count": 12,
   "metadata": {},
   "outputs": [
    {
     "data": {
      "text/plain": [
       "['x', 'xx', 'xxx', 'xxxx', 'y', 'yy', 'yyy', 'yyyy', 'z', 'zz', 'zzz', 'zzzz']"
      ]
     },
     "execution_count": 12,
     "metadata": {},
     "output_type": "execute_result"
    }
   ],
   "source": [
    "#2. Implement List comprehensions to produce the following lists.\n",
    "\n",
    "#2.1 ['x', 'xx', 'xxx', 'xxxx', 'y', 'yy', 'yyy', 'yyyy', 'z', 'zz', 'zzz', 'zzzz']\n",
    "\n",
    "l1 = ['x', 'y', 'z']\n",
    "list1 = [i*j for j in l1 for i in range(1, 5)]\n",
    "list1"
   ]
  },
  {
   "cell_type": "code",
   "execution_count": 13,
   "metadata": {},
   "outputs": [
    {
     "data": {
      "text/plain": [
       "['x', 'y', 'z', 'xx', 'yy', 'zz', 'xxx', 'yyy', 'zzz', 'xxxx', 'yyyy', 'zzzz']"
      ]
     },
     "execution_count": 13,
     "metadata": {},
     "output_type": "execute_result"
    }
   ],
   "source": [
    "#2.2 ['x', 'y', 'z', 'xx', 'yy', 'zz', 'xxx', 'yyy', 'zzz', 'xxxx', 'yyyy', 'zzzz']\\\n",
    "\n",
    "l2 = ['x', 'y', 'z']\n",
    "list2 = [i*j for j in range(1, 5) for i in l2]\n",
    "list2"
   ]
  },
  {
   "cell_type": "code",
   "execution_count": 19,
   "metadata": {},
   "outputs": [
    {
     "data": {
      "text/plain": [
       "[[2], [3], [4], [3], [4], [5], [4], [5], [6]]"
      ]
     },
     "execution_count": 19,
     "metadata": {},
     "output_type": "execute_result"
    }
   ],
   "source": [
    "#2.3 [[2], [3], [4], [3], [4], [5], [4], [5], [6]] \n",
    "\n",
    "list3 = [[i + j] for j in range(3) for i in range(2, 5)]\n",
    "list3"
   ]
  },
  {
   "cell_type": "code",
   "execution_count": 20,
   "metadata": {},
   "outputs": [
    {
     "data": {
      "text/plain": [
       "[[2, 3, 4, 5], [3, 4, 5, 6], [4, 5, 6, 7], [5, 6, 7, 8]]"
      ]
     },
     "execution_count": 20,
     "metadata": {},
     "output_type": "execute_result"
    }
   ],
   "source": [
    "#2.4 [[2, 3, 4, 5], [3, 4, 5, 6],[4, 5, 6, 7], [5, 6, 7, 8]]\n",
    "\n",
    "list4 = [[i + j for j in range(2, 6)] for i in range(4)]\n",
    "list4"
   ]
  },
  {
   "cell_type": "code",
   "execution_count": 21,
   "metadata": {},
   "outputs": [
    {
     "data": {
      "text/plain": [
       "[(1, 1), (1, 2), (1, 3), (2, 1), (2, 2), (2, 3), (3, 1), (3, 2), (3, 3)]"
      ]
     },
     "execution_count": 21,
     "metadata": {},
     "output_type": "execute_result"
    }
   ],
   "source": [
    "#2.5 [(1, 1), (2, 1), (3, 1), (1, 2), (2, 2), (3, 2), (1, 3), (2, 3), (3, 3)]\n",
    "\n",
    "list5 = [(i, j) for i in range(1, 4) for j in range(1, 4)]\n",
    "list5         "
   ]
  },
  {
   "cell_type": "code",
   "execution_count": null,
   "metadata": {},
   "outputs": [],
   "source": []
  }
 ],
 "metadata": {
  "kernelspec": {
   "display_name": "Python 3",
   "language": "python",
   "name": "python3"
  },
  "language_info": {
   "codemirror_mode": {
    "name": "ipython",
    "version": 3
   },
   "file_extension": ".py",
   "mimetype": "text/x-python",
   "name": "python",
   "nbconvert_exporter": "python",
   "pygments_lexer": "ipython3",
   "version": "3.8.3"
  }
 },
 "nbformat": 4,
 "nbformat_minor": 4
}
